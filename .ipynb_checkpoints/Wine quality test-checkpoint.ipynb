{
 "cells": [
  {
   "cell_type": "markdown",
   "id": "7e122a9d",
   "metadata": {},
   "source": [
    "Using the Wine Quality Dataset, test the claim that Wines with a higher quality rating have a higher median alcohol content than wines with a lower quality rating.\n"
   ]
  },
  {
   "cell_type": "markdown",
   "id": "c22bbc87",
   "metadata": {},
   "source": [
    "Null hypothesis: The median alcohol content of wines with a higher quality rating is equal to or lower than the median alcohol content of wines with a lower quality rating."
   ]
  },
  {
   "cell_type": "markdown",
   "id": "e12abb4a",
   "metadata": {},
   "source": [
    "Alternative hypothesis: The median alcohol content of wines with a higher quality rating is higher than the median alcohol content of wines with a lower quality rating."
   ]
  },
  {
   "cell_type": "code",
   "execution_count": 1,
   "id": "463f13c2",
   "metadata": {},
   "outputs": [],
   "source": [
    "# Import all the libraries necessary\n",
    "import pandas as pd\n",
    "import numpy as np\n",
    "from scipy.stats import ttest_ind"
   ]
  },
  {
   "cell_type": "code",
   "execution_count": 7,
   "id": "db1f58af",
   "metadata": {},
   "outputs": [
    {
     "data": {
      "text/html": [
       "<div>\n",
       "<style scoped>\n",
       "    .dataframe tbody tr th:only-of-type {\n",
       "        vertical-align: middle;\n",
       "    }\n",
       "\n",
       "    .dataframe tbody tr th {\n",
       "        vertical-align: top;\n",
       "    }\n",
       "\n",
       "    .dataframe thead th {\n",
       "        text-align: right;\n",
       "    }\n",
       "</style>\n",
       "<table border=\"1\" class=\"dataframe\">\n",
       "  <thead>\n",
       "    <tr style=\"text-align: right;\">\n",
       "      <th></th>\n",
       "      <th>fixed acidity</th>\n",
       "      <th>volatile acidity</th>\n",
       "      <th>citric acid</th>\n",
       "      <th>residual sugar</th>\n",
       "      <th>chlorides</th>\n",
       "      <th>free sulfur dioxide</th>\n",
       "      <th>total sulfur dioxide</th>\n",
       "      <th>density</th>\n",
       "      <th>pH</th>\n",
       "      <th>sulphates</th>\n",
       "      <th>alcohol</th>\n",
       "      <th>quality</th>\n",
       "    </tr>\n",
       "  </thead>\n",
       "  <tbody>\n",
       "    <tr>\n",
       "      <th>0</th>\n",
       "      <td>7.4</td>\n",
       "      <td>0.70</td>\n",
       "      <td>0.00</td>\n",
       "      <td>1.9</td>\n",
       "      <td>0.076</td>\n",
       "      <td>11.0</td>\n",
       "      <td>34.0</td>\n",
       "      <td>0.9978</td>\n",
       "      <td>3.51</td>\n",
       "      <td>0.56</td>\n",
       "      <td>9.4</td>\n",
       "      <td>5</td>\n",
       "    </tr>\n",
       "    <tr>\n",
       "      <th>1</th>\n",
       "      <td>7.8</td>\n",
       "      <td>0.88</td>\n",
       "      <td>0.00</td>\n",
       "      <td>2.6</td>\n",
       "      <td>0.098</td>\n",
       "      <td>25.0</td>\n",
       "      <td>67.0</td>\n",
       "      <td>0.9968</td>\n",
       "      <td>3.20</td>\n",
       "      <td>0.68</td>\n",
       "      <td>9.8</td>\n",
       "      <td>5</td>\n",
       "    </tr>\n",
       "    <tr>\n",
       "      <th>2</th>\n",
       "      <td>7.8</td>\n",
       "      <td>0.76</td>\n",
       "      <td>0.04</td>\n",
       "      <td>2.3</td>\n",
       "      <td>0.092</td>\n",
       "      <td>15.0</td>\n",
       "      <td>54.0</td>\n",
       "      <td>0.9970</td>\n",
       "      <td>3.26</td>\n",
       "      <td>0.65</td>\n",
       "      <td>9.8</td>\n",
       "      <td>5</td>\n",
       "    </tr>\n",
       "    <tr>\n",
       "      <th>3</th>\n",
       "      <td>11.2</td>\n",
       "      <td>0.28</td>\n",
       "      <td>0.56</td>\n",
       "      <td>1.9</td>\n",
       "      <td>0.075</td>\n",
       "      <td>17.0</td>\n",
       "      <td>60.0</td>\n",
       "      <td>0.9980</td>\n",
       "      <td>3.16</td>\n",
       "      <td>0.58</td>\n",
       "      <td>9.8</td>\n",
       "      <td>6</td>\n",
       "    </tr>\n",
       "    <tr>\n",
       "      <th>4</th>\n",
       "      <td>7.4</td>\n",
       "      <td>0.70</td>\n",
       "      <td>0.00</td>\n",
       "      <td>1.9</td>\n",
       "      <td>0.076</td>\n",
       "      <td>11.0</td>\n",
       "      <td>34.0</td>\n",
       "      <td>0.9978</td>\n",
       "      <td>3.51</td>\n",
       "      <td>0.56</td>\n",
       "      <td>9.4</td>\n",
       "      <td>5</td>\n",
       "    </tr>\n",
       "  </tbody>\n",
       "</table>\n",
       "</div>"
      ],
      "text/plain": [
       "   fixed acidity  volatile acidity  citric acid  residual sugar  chlorides  \\\n",
       "0            7.4              0.70         0.00             1.9      0.076   \n",
       "1            7.8              0.88         0.00             2.6      0.098   \n",
       "2            7.8              0.76         0.04             2.3      0.092   \n",
       "3           11.2              0.28         0.56             1.9      0.075   \n",
       "4            7.4              0.70         0.00             1.9      0.076   \n",
       "\n",
       "   free sulfur dioxide  total sulfur dioxide  density    pH  sulphates  \\\n",
       "0                 11.0                  34.0   0.9978  3.51       0.56   \n",
       "1                 25.0                  67.0   0.9968  3.20       0.68   \n",
       "2                 15.0                  54.0   0.9970  3.26       0.65   \n",
       "3                 17.0                  60.0   0.9980  3.16       0.58   \n",
       "4                 11.0                  34.0   0.9978  3.51       0.56   \n",
       "\n",
       "   alcohol  quality  \n",
       "0      9.4        5  \n",
       "1      9.8        5  \n",
       "2      9.8        5  \n",
       "3      9.8        6  \n",
       "4      9.4        5  "
      ]
     },
     "execution_count": 7,
     "metadata": {},
     "output_type": "execute_result"
    }
   ],
   "source": [
    "# Load the dataset\n",
    "wine = pd.read_csv('winequality-red.csv', sep= ';', header = 0)\n",
    "wine.head()"
   ]
  },
  {
   "cell_type": "code",
   "execution_count": 10,
   "id": "49eee369",
   "metadata": {},
   "outputs": [],
   "source": [
    "# Split into two groups based on quality rating\n",
    "high_quality = wine[wine['quality'] >= 7]\n",
    "low_quality = wine[wine['quality'] < 7]"
   ]
  },
  {
   "cell_type": "code",
   "execution_count": 11,
   "id": "7a2f4978",
   "metadata": {},
   "outputs": [],
   "source": [
    "# Calculate the median alcohol content for each group\n",
    "high_quality_median = high_quality['alcohol'].median()\n",
    "low_quality_median = low_quality['alcohol'].median()"
   ]
  },
  {
   "cell_type": "code",
   "execution_count": 12,
   "id": "e4cfdd1b",
   "metadata": {},
   "outputs": [],
   "source": [
    "# Perform a two-sample t-test\n",
    "t_stat, p_value = ttest_ind(high_quality['alcohol'], low_quality['alcohol'], equal_var=False)"
   ]
  },
  {
   "cell_type": "code",
   "execution_count": 13,
   "id": "a45a23cd",
   "metadata": {},
   "outputs": [
    {
     "name": "stdout",
     "output_type": "stream",
     "text": [
      "Reject null hypothesis. Wines with higher quality ratings have a higher median alcohol content than wines with lower quality ratings.\n"
     ]
    }
   ],
   "source": [
    "# Check the p-value against the level of significance\n",
    "alpha = 0.05\n",
    "if p_value < alpha:\n",
    "    print('Reject null hypothesis. Wines with higher quality ratings have a higher median alcohol content than wines with lower quality ratings.')\n",
    "else:\n",
    "    print('Failed to reject null hypothesis. There is no evidence that wines with higher quality ratings have a higher median alcohol content than wines with lower quality ratings.')"
   ]
  },
  {
   "cell_type": "markdown",
   "id": "c09978cc",
   "metadata": {},
   "source": [
    "Based on the results of the t-test, if the p-value is less than 0.05, we can reject the null hypothesis and conclude that there is evidence to support the alternative hypothesis that wines with higher quality ratings have a higher median alcohol content than wines with lower quality ratings."
   ]
  },
  {
   "cell_type": "code",
   "execution_count": null,
   "id": "b7a3329f",
   "metadata": {},
   "outputs": [],
   "source": []
  }
 ],
 "metadata": {
  "kernelspec": {
   "display_name": "Python 3 (ipykernel)",
   "language": "python",
   "name": "python3"
  },
  "language_info": {
   "codemirror_mode": {
    "name": "ipython",
    "version": 3
   },
   "file_extension": ".py",
   "mimetype": "text/x-python",
   "name": "python",
   "nbconvert_exporter": "python",
   "pygments_lexer": "ipython3",
   "version": "3.9.13"
  }
 },
 "nbformat": 4,
 "nbformat_minor": 5
}
